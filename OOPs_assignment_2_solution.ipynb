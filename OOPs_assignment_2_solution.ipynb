{
 "cells": [
  {
   "cell_type": "markdown",
   "id": "005551f0",
   "metadata": {},
   "source": [
    "Q1. What is Abstraction in OOps? Explain with an example."
   ]
  },
  {
   "cell_type": "markdown",
   "id": "21d707ac",
   "metadata": {},
   "source": [
    "ANSWER] Abstraction is a fundamental concept in Object-Oriented Programming (OOP) that focuses on simplifying complex reality by modeling classes, objects, and methods with relevant properties and behaviors while hiding unnecessary details."
   ]
  },
  {
   "cell_type": "code",
   "execution_count": 1,
   "id": "061bd178",
   "metadata": {},
   "outputs": [],
   "source": [
    "import abc\n",
    "class pwskills:\n",
    "    \n",
    "    @abc.abstractmethod\n",
    "    def students_detials(self):\n",
    "        pass\n",
    "    \n",
    "    @abc.abstractmethod\n",
    "    def student_assignemnt(self):\n",
    "        pass\n",
    "    \n",
    "    @abc.abstractmethod\n",
    "    def student_marks(self):\n",
    "        pass"
   ]
  },
  {
   "cell_type": "code",
   "execution_count": 3,
   "id": "0ae5aa8c",
   "metadata": {},
   "outputs": [
    {
     "data": {
      "text/plain": [
       "' students details'"
      ]
     },
     "execution_count": 3,
     "metadata": {},
     "output_type": "execute_result"
    }
   ],
   "source": [
    "class student_detils(pwskills):\n",
    "    \n",
    "    def students_detials(self):\n",
    "        return \" students details\"\n",
    "    \n",
    "    def student_assignemnt(self):\n",
    "        return \"student assignment\"\n",
    "    \n",
    "sd= student_detils()\n",
    "sd.students_detials()"
   ]
  },
  {
   "cell_type": "markdown",
   "id": "34a6bee4",
   "metadata": {},
   "source": [
    "Q2. Differentiate between Abstraction and Encapsulation. Explain with an example."
   ]
  },
  {
   "cell_type": "markdown",
   "id": "59fd6b6e",
   "metadata": {},
   "source": [
    "ANSWER] Abstraction and encapsulation are two important concepts in object-oriented programming (OOP), but they serve different purposes and focus on different aspects of designing and organizing code.\n",
    "\n",
    "#Abstraction:\n",
    "Abstraction is the process of simplifying complex reality by modeling classes, objects, and methods with relevant properties and behaviors while hiding unnecessary details. It focuses on the \"what\" of an object, defining the essential characteristics and interactions without getting into the specifics of implementation.\n",
    "\n",
    "#Encapsulation:\n",
    "Encapsulation is the practice of bundling the data (attributes) and the methods (functions) that operate on the data into a single unit, known as a class. It involves restricting direct access to some of the object's components and providing controlled access through well-defined interfaces (public methods) to ensure data integrity and maintainability."
   ]
  },
  {
   "cell_type": "code",
   "execution_count": 5,
   "id": "55ef99ba",
   "metadata": {},
   "outputs": [
    {
     "name": "stdout",
     "output_type": "stream",
     "text": [
      "Current balance: 500.0\n"
     ]
    }
   ],
   "source": [
    "import abc\n",
    "class BankAccount:\n",
    "    \n",
    "    @abc.abstractmethod\n",
    "    def __init__(self, account_number, account_holder):\n",
    "        self.__account_number = account_number\n",
    "        self.__account_holder = account_holder\n",
    "        self.__balance = 0.0\n",
    "\n",
    "    def deposit(self, amount):\n",
    "        if amount > 0:\n",
    "            self.__balance += amount\n",
    "\n",
    "    def withdraw(self, amount):\n",
    "        if amount > 0 and self.__balance >= amount:\n",
    "            self.__balance -= amount\n",
    "        else:\n",
    "            print(\"Insufficient funds\")\n",
    "\n",
    "    def get_balance(self):\n",
    "        return self.__balance\n",
    "\n",
    "account = BankAccount(\"123456\", \"John Doe\")\n",
    "account.deposit(1000)\n",
    "account.withdraw(500)\n",
    "print(\"Current balance:\", account.get_balance())\n"
   ]
  },
  {
   "cell_type": "markdown",
   "id": "f93e7b5f",
   "metadata": {},
   "source": [
    "Q3. What is abc module in python? Why is it used?"
   ]
  },
  {
   "cell_type": "markdown",
   "id": "7e5a82a0",
   "metadata": {},
   "source": [
    "ANSWER] The abc module in Python stands for \"Abstract Base Classes.\" It provides a way to define abstract classes and enforce the creation of certain methods in derived classes, ensuring a certain level of structure and consistency in your code. Abstract base classes are classes that are meant to be subclassed by other classes and provide a blueprint for the behavior and structure that the subclasses should have.\n",
    "\n",
    "The abc module is used for several purposes:\n",
    "\n",
    "Defining Abstract Base Classes: You can use the abc module to create abstract base classes. An abstract base class is a class that cannot be instantiated itself, but it defines a set of methods that must be implemented by its concrete subclasses.\n",
    "\n",
    "Enforcing Method Implementation: Abstract base classes can define abstract methods using the @abstractmethod decorator. Subclasses must then provide concrete implementations for these abstract methods, ensuring that certain behavior is present across all subclasses.\n",
    "\n",
    "Type Checking and Polymorphism: Abstract base classes can be used to establish a common interface for a group of related classes. This can be useful for type checking and polymorphism, allowing you to treat objects of different concrete subclasses as instances of the common abstract base class.\n",
    "\n",
    "Code Documentation: Abstract base classes can serve as documentation, indicating to other programmers what methods are expected to be implemented by subclasses and what behavior those methods should exhibit.\n",
    "\n"
   ]
  },
  {
   "cell_type": "markdown",
   "id": "c03f5ed8",
   "metadata": {},
   "source": [
    "Q4. How can we achieve data abstraction?"
   ]
  },
  {
   "cell_type": "markdown",
   "id": "6b5faa1c",
   "metadata": {},
   "source": [
    "ANSWER]Data abstraction is achieved in programming through abstract data types (ADTs) and encapsulation. Abstract data types define high-level data structures and operations, while encapsulation hides implementation details and provides controlled access through methods. This allows you to work with data at a higher level, focusing on what the data does rather than how it's implemented."
   ]
  },
  {
   "cell_type": "markdown",
   "id": "32f59bf3",
   "metadata": {},
   "source": [
    "Q5. Can we create an instance of an abstract class? Explain your answer."
   ]
  },
  {
   "cell_type": "markdown",
   "id": "767b3249",
   "metadata": {},
   "source": [
    "No, you cannot create an instance of an abstract class in most programming languages that support abstract classes, including Python.\n",
    "\n",
    "An abstract class is a class that is meant to be a blueprint for other classes but cannot be instantiated on its own. It typically contains abstract methods that are meant to be overridden by its concrete subclasses. Abstract classes are used to provide a common interface and structure for a group of related classes.\n",
    "\n",
    "In languages like Python, you can create an abstract class using the abc module and the @abstractmethod decorator. However, attempting to directly instantiate an abstract class will result in an error. You can only create instances of concrete subclasses that implement the required abstract methods."
   ]
  },
  {
   "cell_type": "code",
   "execution_count": 7,
   "id": "4b918c30",
   "metadata": {},
   "outputs": [
    {
     "name": "stdout",
     "output_type": "stream",
     "text": [
      "ConcreteClass method\n"
     ]
    }
   ],
   "source": [
    "from abc import ABC, abstractmethod\n",
    "\n",
    "class AbstractClass(ABC):\n",
    "    @abstractmethod\n",
    "    def method(self):\n",
    "        pass\n",
    "\n",
    "# This will result in an error:\n",
    "# obj = AbstractClass()\n",
    "\n",
    "class ConcreteClass(AbstractClass):\n",
    "    def method(self):\n",
    "        return \"ConcreteClass method\"\n",
    "\n",
    "obj = ConcreteClass()\n",
    "print(obj.method())\n"
   ]
  },
  {
   "cell_type": "code",
   "execution_count": null,
   "id": "55b566c7",
   "metadata": {},
   "outputs": [],
   "source": []
  }
 ],
 "metadata": {
  "kernelspec": {
   "display_name": "Python 3 (ipykernel)",
   "language": "python",
   "name": "python3"
  },
  "language_info": {
   "codemirror_mode": {
    "name": "ipython",
    "version": 3
   },
   "file_extension": ".py",
   "mimetype": "text/x-python",
   "name": "python",
   "nbconvert_exporter": "python",
   "pygments_lexer": "ipython3",
   "version": "3.11.4"
  }
 },
 "nbformat": 4,
 "nbformat_minor": 5
}
